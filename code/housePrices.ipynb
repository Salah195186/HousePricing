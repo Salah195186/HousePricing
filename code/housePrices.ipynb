{
 "cells": [
  {
   "cell_type": "code",
   "execution_count": 1,
   "metadata": {},
   "outputs": [],
   "source": [
    "#Import Liberaries\n",
    "import pandas as pd\n",
    "import tensorflow as tf"
   ]
  },
  {
   "cell_type": "code",
   "execution_count": 2,
   "metadata": {},
   "outputs": [],
   "source": [
    "#Reading Dataset FIle\n",
    "df = pd.read_csv('housepricedata.csv')"
   ]
  },
  {
   "cell_type": "code",
   "execution_count": 3,
   "metadata": {},
   "outputs": [
    {
     "data": {
      "text/html": [
       "<div>\n",
       "<style scoped>\n",
       "    .dataframe tbody tr th:only-of-type {\n",
       "        vertical-align: middle;\n",
       "    }\n",
       "\n",
       "    .dataframe tbody tr th {\n",
       "        vertical-align: top;\n",
       "    }\n",
       "\n",
       "    .dataframe thead th {\n",
       "        text-align: right;\n",
       "    }\n",
       "</style>\n",
       "<table border=\"1\" class=\"dataframe\">\n",
       "  <thead>\n",
       "    <tr style=\"text-align: right;\">\n",
       "      <th></th>\n",
       "      <th>LotArea</th>\n",
       "      <th>OverallQual</th>\n",
       "      <th>OverallCond</th>\n",
       "      <th>TotalBsmtSF</th>\n",
       "      <th>FullBath</th>\n",
       "      <th>HalfBath</th>\n",
       "      <th>BedroomAbvGr</th>\n",
       "      <th>TotRmsAbvGrd</th>\n",
       "      <th>Fireplaces</th>\n",
       "      <th>GarageArea</th>\n",
       "      <th>AboveMedianPrice</th>\n",
       "    </tr>\n",
       "  </thead>\n",
       "  <tbody>\n",
       "    <tr>\n",
       "      <th>0</th>\n",
       "      <td>8450</td>\n",
       "      <td>7</td>\n",
       "      <td>5</td>\n",
       "      <td>856</td>\n",
       "      <td>2</td>\n",
       "      <td>1</td>\n",
       "      <td>3</td>\n",
       "      <td>8</td>\n",
       "      <td>0</td>\n",
       "      <td>548</td>\n",
       "      <td>1</td>\n",
       "    </tr>\n",
       "    <tr>\n",
       "      <th>1</th>\n",
       "      <td>9600</td>\n",
       "      <td>6</td>\n",
       "      <td>8</td>\n",
       "      <td>1262</td>\n",
       "      <td>2</td>\n",
       "      <td>0</td>\n",
       "      <td>3</td>\n",
       "      <td>6</td>\n",
       "      <td>1</td>\n",
       "      <td>460</td>\n",
       "      <td>1</td>\n",
       "    </tr>\n",
       "    <tr>\n",
       "      <th>2</th>\n",
       "      <td>11250</td>\n",
       "      <td>7</td>\n",
       "      <td>5</td>\n",
       "      <td>920</td>\n",
       "      <td>2</td>\n",
       "      <td>1</td>\n",
       "      <td>3</td>\n",
       "      <td>6</td>\n",
       "      <td>1</td>\n",
       "      <td>608</td>\n",
       "      <td>1</td>\n",
       "    </tr>\n",
       "    <tr>\n",
       "      <th>3</th>\n",
       "      <td>9550</td>\n",
       "      <td>7</td>\n",
       "      <td>5</td>\n",
       "      <td>756</td>\n",
       "      <td>1</td>\n",
       "      <td>0</td>\n",
       "      <td>3</td>\n",
       "      <td>7</td>\n",
       "      <td>1</td>\n",
       "      <td>642</td>\n",
       "      <td>0</td>\n",
       "    </tr>\n",
       "    <tr>\n",
       "      <th>4</th>\n",
       "      <td>14260</td>\n",
       "      <td>8</td>\n",
       "      <td>5</td>\n",
       "      <td>1145</td>\n",
       "      <td>2</td>\n",
       "      <td>1</td>\n",
       "      <td>4</td>\n",
       "      <td>9</td>\n",
       "      <td>1</td>\n",
       "      <td>836</td>\n",
       "      <td>1</td>\n",
       "    </tr>\n",
       "    <tr>\n",
       "      <th>...</th>\n",
       "      <td>...</td>\n",
       "      <td>...</td>\n",
       "      <td>...</td>\n",
       "      <td>...</td>\n",
       "      <td>...</td>\n",
       "      <td>...</td>\n",
       "      <td>...</td>\n",
       "      <td>...</td>\n",
       "      <td>...</td>\n",
       "      <td>...</td>\n",
       "      <td>...</td>\n",
       "    </tr>\n",
       "    <tr>\n",
       "      <th>1455</th>\n",
       "      <td>7917</td>\n",
       "      <td>6</td>\n",
       "      <td>5</td>\n",
       "      <td>953</td>\n",
       "      <td>2</td>\n",
       "      <td>1</td>\n",
       "      <td>3</td>\n",
       "      <td>7</td>\n",
       "      <td>1</td>\n",
       "      <td>460</td>\n",
       "      <td>1</td>\n",
       "    </tr>\n",
       "    <tr>\n",
       "      <th>1456</th>\n",
       "      <td>13175</td>\n",
       "      <td>6</td>\n",
       "      <td>6</td>\n",
       "      <td>1542</td>\n",
       "      <td>2</td>\n",
       "      <td>0</td>\n",
       "      <td>3</td>\n",
       "      <td>7</td>\n",
       "      <td>2</td>\n",
       "      <td>500</td>\n",
       "      <td>1</td>\n",
       "    </tr>\n",
       "    <tr>\n",
       "      <th>1457</th>\n",
       "      <td>9042</td>\n",
       "      <td>7</td>\n",
       "      <td>9</td>\n",
       "      <td>1152</td>\n",
       "      <td>2</td>\n",
       "      <td>0</td>\n",
       "      <td>4</td>\n",
       "      <td>9</td>\n",
       "      <td>2</td>\n",
       "      <td>252</td>\n",
       "      <td>1</td>\n",
       "    </tr>\n",
       "    <tr>\n",
       "      <th>1458</th>\n",
       "      <td>9717</td>\n",
       "      <td>5</td>\n",
       "      <td>6</td>\n",
       "      <td>1078</td>\n",
       "      <td>1</td>\n",
       "      <td>0</td>\n",
       "      <td>2</td>\n",
       "      <td>5</td>\n",
       "      <td>0</td>\n",
       "      <td>240</td>\n",
       "      <td>0</td>\n",
       "    </tr>\n",
       "    <tr>\n",
       "      <th>1459</th>\n",
       "      <td>9937</td>\n",
       "      <td>5</td>\n",
       "      <td>6</td>\n",
       "      <td>1256</td>\n",
       "      <td>1</td>\n",
       "      <td>1</td>\n",
       "      <td>3</td>\n",
       "      <td>6</td>\n",
       "      <td>0</td>\n",
       "      <td>276</td>\n",
       "      <td>0</td>\n",
       "    </tr>\n",
       "  </tbody>\n",
       "</table>\n",
       "<p>1460 rows × 11 columns</p>\n",
       "</div>"
      ],
      "text/plain": [
       "      LotArea  OverallQual  OverallCond  TotalBsmtSF  FullBath  HalfBath  \\\n",
       "0        8450            7            5          856         2         1   \n",
       "1        9600            6            8         1262         2         0   \n",
       "2       11250            7            5          920         2         1   \n",
       "3        9550            7            5          756         1         0   \n",
       "4       14260            8            5         1145         2         1   \n",
       "...       ...          ...          ...          ...       ...       ...   \n",
       "1455     7917            6            5          953         2         1   \n",
       "1456    13175            6            6         1542         2         0   \n",
       "1457     9042            7            9         1152         2         0   \n",
       "1458     9717            5            6         1078         1         0   \n",
       "1459     9937            5            6         1256         1         1   \n",
       "\n",
       "      BedroomAbvGr  TotRmsAbvGrd  Fireplaces  GarageArea  AboveMedianPrice  \n",
       "0                3             8           0         548                 1  \n",
       "1                3             6           1         460                 1  \n",
       "2                3             6           1         608                 1  \n",
       "3                3             7           1         642                 0  \n",
       "4                4             9           1         836                 1  \n",
       "...            ...           ...         ...         ...               ...  \n",
       "1455             3             7           1         460                 1  \n",
       "1456             3             7           2         500                 1  \n",
       "1457             4             9           2         252                 1  \n",
       "1458             2             5           0         240                 0  \n",
       "1459             3             6           0         276                 0  \n",
       "\n",
       "[1460 rows x 11 columns]"
      ]
     },
     "execution_count": 3,
     "metadata": {},
     "output_type": "execute_result"
    }
   ],
   "source": [
    "#DIsplaying dataframe\n",
    "df"
   ]
  },
  {
   "cell_type": "code",
   "execution_count": 4,
   "metadata": {},
   "outputs": [
    {
     "data": {
      "text/plain": [
       "array([[ 8450,     7,     5, ...,     0,   548,     1],\n",
       "       [ 9600,     6,     8, ...,     1,   460,     1],\n",
       "       [11250,     7,     5, ...,     1,   608,     1],\n",
       "       ...,\n",
       "       [ 9042,     7,     9, ...,     2,   252,     1],\n",
       "       [ 9717,     5,     6, ...,     0,   240,     0],\n",
       "       [ 9937,     5,     6, ...,     0,   276,     0]], dtype=int64)"
      ]
     },
     "execution_count": 4,
     "metadata": {},
     "output_type": "execute_result"
    }
   ],
   "source": [
    "dataset = df.values\n",
    "dataset"
   ]
  },
  {
   "cell_type": "code",
   "execution_count": 5,
   "metadata": {},
   "outputs": [],
   "source": [
    "#Splliting features and target values in X and Y respectively\n",
    "X = dataset[:,0:10]\n",
    "Y = dataset[:,10]"
   ]
  },
  {
   "cell_type": "code",
   "execution_count": 6,
   "metadata": {},
   "outputs": [],
   "source": [
    "#importing preprocessing liberary for data preprocessing \n",
    "from sklearn import preprocessing"
   ]
  },
  {
   "cell_type": "code",
   "execution_count": 7,
   "metadata": {},
   "outputs": [],
   "source": [
    "#scales the dataset so that all the input features lie between 0 and 1\n",
    "min_max_scaler = preprocessing.MinMaxScaler()\n",
    "X_scale = min_max_scaler.fit_transform(X)"
   ]
  },
  {
   "cell_type": "code",
   "execution_count": 8,
   "metadata": {},
   "outputs": [
    {
     "data": {
      "text/plain": [
       "array([[0.0334198 , 0.66666667, 0.5       , ..., 0.5       , 0.        ,\n",
       "        0.3864598 ],\n",
       "       [0.03879502, 0.55555556, 0.875     , ..., 0.33333333, 0.33333333,\n",
       "        0.32440056],\n",
       "       [0.04650728, 0.66666667, 0.5       , ..., 0.33333333, 0.33333333,\n",
       "        0.42877292],\n",
       "       ...,\n",
       "       [0.03618687, 0.66666667, 1.        , ..., 0.58333333, 0.66666667,\n",
       "        0.17771509],\n",
       "       [0.03934189, 0.44444444, 0.625     , ..., 0.25      , 0.        ,\n",
       "        0.16925247],\n",
       "       [0.04037019, 0.44444444, 0.625     , ..., 0.33333333, 0.        ,\n",
       "        0.19464034]])"
      ]
     },
     "execution_count": 8,
     "metadata": {},
     "output_type": "execute_result"
    }
   ],
   "source": [
    "X_scale"
   ]
  },
  {
   "cell_type": "code",
   "execution_count": 9,
   "metadata": {},
   "outputs": [],
   "source": [
    "from sklearn.model_selection import train_test_split"
   ]
  },
  {
   "cell_type": "code",
   "execution_count": 10,
   "metadata": {},
   "outputs": [],
   "source": [
    "#test and training data splitting \n",
    "X_train, X_val_and_test, Y_train, Y_val_and_test = train_test_split(X_scale, Y, test_size=0.3)"
   ]
  },
  {
   "cell_type": "code",
   "execution_count": 11,
   "metadata": {},
   "outputs": [
    {
     "name": "stdout",
     "output_type": "stream",
     "text": [
      "(1022, 10) (219, 10) (219, 10) (1022,) (219,) (219,)\n"
     ]
    }
   ],
   "source": [
    "X_val, X_test, Y_val, Y_test = train_test_split(X_val_and_test, Y_val_and_test, test_size=0.5)\n",
    "print(X_train.shape, X_val.shape, X_test.shape, Y_train.shape, Y_val.shape, Y_test.shape)"
   ]
  },
  {
   "cell_type": "code",
   "execution_count": 13,
   "metadata": {},
   "outputs": [
    {
     "name": "stdout",
     "output_type": "stream",
     "text": [
      "Requirement already satisfied: keras in c:\\users\\temporary\\appdata\\local\\programs\\python\\python38\\lib\\site-packages (2.4.3)\n",
      "Requirement already satisfied: numpy>=1.9.1 in c:\\users\\temporary\\appdata\\local\\programs\\python\\python38\\lib\\site-packages (from keras) (1.19.4)\n",
      "Requirement already satisfied: scipy>=0.14 in c:\\users\\temporary\\appdata\\local\\programs\\python\\python38\\lib\\site-packages (from keras) (1.5.4)\n",
      "Requirement already satisfied: h5py in c:\\users\\temporary\\appdata\\local\\programs\\python\\python38\\lib\\site-packages (from keras) (2.10.0)\n",
      "Requirement already satisfied: pyyaml in c:\\users\\temporary\\appdata\\local\\programs\\python\\python38\\lib\\site-packages (from keras) (5.4.1)\n",
      "Requirement already satisfied: six in c:\\users\\temporary\\appdata\\local\\programs\\python\\python38\\lib\\site-packages (from h5py->keras) (1.15.0)\n"
     ]
    }
   ],
   "source": [
    "#istalling Keras framework\n",
    "!pip3 install keras"
   ]
  },
  {
   "cell_type": "code",
   "execution_count": 74,
   "metadata": {},
   "outputs": [],
   "source": [
    "from keras.models import Sequential\n",
    "from keras.layers import Dense"
   ]
  },
  {
   "cell_type": "markdown",
   "metadata": {},
   "source": [
    "We have our first layer as a dense layer with 32 neurons, ReLU activation and the input shape is 10 since we have 10 input features. Note that ‘Dense’ refers to a fully-connected layer, which is what we will be using.\n",
    "\n",
    "Our second layer is also a dense layer with 32 neurons, ReLU activation. Note that we do not have to describe the input shape since Keras can infer from the output of our first layer.\n",
    "\n",
    "Our third layer is a dense layer with 1 neuron, sigmoid activation."
   ]
  },
  {
   "cell_type": "code",
   "execution_count": 79,
   "metadata": {},
   "outputs": [],
   "source": [
    "# using the Sequential model, which means that we merely need to describe the layers\n",
    "model = Sequential([\n",
    "    Dense(128, activation='relu', input_shape=(10,)),\n",
    "    Dense(128, activation='relu'),\n",
    "    Dense(1, activation='sigmoid'),\n",
    "])"
   ]
  },
  {
   "cell_type": "markdown",
   "metadata": {},
   "source": [
    "We put the following settings inside the brackets after model.compile:\n",
    "\n",
    "optimizer='sgd'\n",
    "\n",
    "‘sgd’ refers to stochastic gradient descent (over here, it refers to mini-batch gradient descent)\n",
    "loss='binary_crossentropy'\n",
    "\n",
    "The loss function for outputs that take the values 1 or 0 is called binary cross entropy.\n",
    "\n",
    "metrics=['accuracy']\n",
    "\n",
    "Lastly, we want to track accuracy on top of the loss function. Now once we’ve run that cell, we are ready to train!"
   ]
  },
  {
   "cell_type": "code",
   "execution_count": 80,
   "metadata": {},
   "outputs": [],
   "source": [
    "model.compile(optimizer='sgd',\n",
    "              loss='binary_crossentropy',\n",
    "              metrics=['accuracy'])"
   ]
  },
  {
   "cell_type": "markdown",
   "metadata": {},
   "source": [
    "The function is called ‘fit’ as we are fitting the parameters to the data. We have to specify what data we are training on, which is X_train and Y_train. Then, we specify the size of our mini-batch and how long we want to train it for (epochs). Lastly, we specify what our validation data is so that the model will tell us how we are doing on the validation data at each point. This function will output a history, which we save under the variable hist. We’ll use this variable a little later when we get to visualization."
   ]
  },
  {
   "cell_type": "code",
   "execution_count": 85,
   "metadata": {},
   "outputs": [
    {
     "name": "stdout",
     "output_type": "stream",
     "text": [
      "Epoch 1/100\n",
      "32/32 [==============================] - 0s 12ms/step - loss: 0.2665 - accuracy: 0.8845 - val_loss: 0.1914 - val_accuracy: 0.9269\n",
      "Epoch 2/100\n",
      "32/32 [==============================] - 0s 8ms/step - loss: 0.2653 - accuracy: 0.8845 - val_loss: 0.1922 - val_accuracy: 0.9269\n",
      "Epoch 3/100\n",
      "32/32 [==============================] - 0s 7ms/step - loss: 0.2654 - accuracy: 0.8845 - val_loss: 0.1965 - val_accuracy: 0.9178\n",
      "Epoch 4/100\n",
      "32/32 [==============================] - 0s 8ms/step - loss: 0.2646 - accuracy: 0.8875 - val_loss: 0.1943 - val_accuracy: 0.9178\n",
      "Epoch 5/100\n",
      "32/32 [==============================] - 0s 8ms/step - loss: 0.2644 - accuracy: 0.8894 - val_loss: 0.2011 - val_accuracy: 0.9132\n",
      "Epoch 6/100\n",
      "32/32 [==============================] - 0s 7ms/step - loss: 0.2652 - accuracy: 0.8845 - val_loss: 0.1952 - val_accuracy: 0.9178\n",
      "Epoch 7/100\n",
      "32/32 [==============================] - 0s 7ms/step - loss: 0.2645 - accuracy: 0.8845 - val_loss: 0.1918 - val_accuracy: 0.9269\n",
      "Epoch 8/100\n",
      "32/32 [==============================] - 0s 7ms/step - loss: 0.2635 - accuracy: 0.8855 - val_loss: 0.1900 - val_accuracy: 0.9269\n",
      "Epoch 9/100\n",
      "32/32 [==============================] - 0s 8ms/step - loss: 0.2645 - accuracy: 0.8836 - val_loss: 0.1930 - val_accuracy: 0.9224\n",
      "Epoch 10/100\n",
      "32/32 [==============================] - 0s 7ms/step - loss: 0.2640 - accuracy: 0.8855 - val_loss: 0.1891 - val_accuracy: 0.9224\n",
      "Epoch 11/100\n",
      "32/32 [==============================] - 0s 8ms/step - loss: 0.2626 - accuracy: 0.8855 - val_loss: 0.2014 - val_accuracy: 0.9132\n",
      "Epoch 12/100\n",
      "32/32 [==============================] - 0s 7ms/step - loss: 0.2638 - accuracy: 0.8845 - val_loss: 0.1902 - val_accuracy: 0.9269\n",
      "Epoch 13/100\n",
      "32/32 [==============================] - 0s 8ms/step - loss: 0.2626 - accuracy: 0.8865 - val_loss: 0.1854 - val_accuracy: 0.9224\n",
      "Epoch 14/100\n",
      "32/32 [==============================] - 0s 8ms/step - loss: 0.2634 - accuracy: 0.8836 - val_loss: 0.1875 - val_accuracy: 0.9269\n",
      "Epoch 15/100\n",
      "32/32 [==============================] - 0s 8ms/step - loss: 0.2633 - accuracy: 0.8855 - val_loss: 0.1916 - val_accuracy: 0.9269\n",
      "Epoch 16/100\n",
      "32/32 [==============================] - 0s 8ms/step - loss: 0.2627 - accuracy: 0.8855 - val_loss: 0.1898 - val_accuracy: 0.9224\n",
      "Epoch 17/100\n",
      "32/32 [==============================] - 0s 8ms/step - loss: 0.2629 - accuracy: 0.8845 - val_loss: 0.1867 - val_accuracy: 0.9269\n",
      "Epoch 18/100\n",
      "32/32 [==============================] - 0s 7ms/step - loss: 0.2622 - accuracy: 0.8875 - val_loss: 0.1920 - val_accuracy: 0.9178\n",
      "Epoch 19/100\n",
      "32/32 [==============================] - 0s 9ms/step - loss: 0.2628 - accuracy: 0.8894 - val_loss: 0.1919 - val_accuracy: 0.9178\n",
      "Epoch 20/100\n",
      "32/32 [==============================] - 0s 7ms/step - loss: 0.2626 - accuracy: 0.8855 - val_loss: 0.1948 - val_accuracy: 0.9178\n",
      "Epoch 21/100\n",
      "32/32 [==============================] - 0s 8ms/step - loss: 0.2617 - accuracy: 0.8865 - val_loss: 0.1929 - val_accuracy: 0.9178\n",
      "Epoch 22/100\n",
      "32/32 [==============================] - 0s 7ms/step - loss: 0.2626 - accuracy: 0.8855 - val_loss: 0.1902 - val_accuracy: 0.9224\n",
      "Epoch 23/100\n",
      "32/32 [==============================] - 0s 8ms/step - loss: 0.2628 - accuracy: 0.8826 - val_loss: 0.1925 - val_accuracy: 0.9178\n",
      "Epoch 24/100\n",
      "32/32 [==============================] - 0s 8ms/step - loss: 0.2627 - accuracy: 0.8865 - val_loss: 0.1889 - val_accuracy: 0.9224\n",
      "Epoch 25/100\n",
      "32/32 [==============================] - 0s 8ms/step - loss: 0.2611 - accuracy: 0.8875 - val_loss: 0.1869 - val_accuracy: 0.9269\n",
      "Epoch 26/100\n",
      "32/32 [==============================] - 0s 8ms/step - loss: 0.2615 - accuracy: 0.8826 - val_loss: 0.1896 - val_accuracy: 0.9224\n",
      "Epoch 27/100\n",
      "32/32 [==============================] - 0s 7ms/step - loss: 0.2620 - accuracy: 0.8855 - val_loss: 0.1898 - val_accuracy: 0.9178\n",
      "Epoch 28/100\n",
      "32/32 [==============================] - 0s 8ms/step - loss: 0.2610 - accuracy: 0.8836 - val_loss: 0.1881 - val_accuracy: 0.9269\n",
      "Epoch 29/100\n",
      "32/32 [==============================] - 0s 9ms/step - loss: 0.2613 - accuracy: 0.8855 - val_loss: 0.1865 - val_accuracy: 0.9269\n",
      "Epoch 30/100\n",
      "32/32 [==============================] - 0s 8ms/step - loss: 0.2616 - accuracy: 0.8865 - val_loss: 0.1924 - val_accuracy: 0.9178\n",
      "Epoch 31/100\n",
      "32/32 [==============================] - 0s 7ms/step - loss: 0.2603 - accuracy: 0.8855 - val_loss: 0.1885 - val_accuracy: 0.9269\n",
      "Epoch 32/100\n",
      "32/32 [==============================] - 0s 9ms/step - loss: 0.2599 - accuracy: 0.8894 - val_loss: 0.1847 - val_accuracy: 0.9178\n",
      "Epoch 33/100\n",
      "32/32 [==============================] - 0s 8ms/step - loss: 0.2606 - accuracy: 0.8855 - val_loss: 0.1864 - val_accuracy: 0.9269\n",
      "Epoch 34/100\n",
      "32/32 [==============================] - 0s 8ms/step - loss: 0.2605 - accuracy: 0.8885 - val_loss: 0.1889 - val_accuracy: 0.9224\n",
      "Epoch 35/100\n",
      "32/32 [==============================] - 0s 7ms/step - loss: 0.2598 - accuracy: 0.8865 - val_loss: 0.1883 - val_accuracy: 0.9269\n",
      "Epoch 36/100\n",
      "32/32 [==============================] - 0s 8ms/step - loss: 0.2601 - accuracy: 0.8855 - val_loss: 0.1873 - val_accuracy: 0.9269\n",
      "Epoch 37/100\n",
      "32/32 [==============================] - 0s 7ms/step - loss: 0.2597 - accuracy: 0.8855 - val_loss: 0.1916 - val_accuracy: 0.9132\n",
      "Epoch 38/100\n",
      "32/32 [==============================] - 0s 8ms/step - loss: 0.2593 - accuracy: 0.8885 - val_loss: 0.1857 - val_accuracy: 0.9224\n",
      "Epoch 39/100\n",
      "32/32 [==============================] - 0s 7ms/step - loss: 0.2593 - accuracy: 0.8875 - val_loss: 0.1895 - val_accuracy: 0.9224\n",
      "Epoch 40/100\n",
      "32/32 [==============================] - 0s 8ms/step - loss: 0.2592 - accuracy: 0.8855 - val_loss: 0.1851 - val_accuracy: 0.9224\n",
      "Epoch 41/100\n",
      "32/32 [==============================] - 0s 8ms/step - loss: 0.2595 - accuracy: 0.8836 - val_loss: 0.1925 - val_accuracy: 0.9178\n",
      "Epoch 42/100\n",
      "32/32 [==============================] - 0s 7ms/step - loss: 0.2590 - accuracy: 0.8875 - val_loss: 0.1894 - val_accuracy: 0.9224\n",
      "Epoch 43/100\n",
      "32/32 [==============================] - 0s 7ms/step - loss: 0.2594 - accuracy: 0.8845 - val_loss: 0.1912 - val_accuracy: 0.9132\n",
      "Epoch 44/100\n",
      "32/32 [==============================] - 0s 8ms/step - loss: 0.2590 - accuracy: 0.8845 - val_loss: 0.1941 - val_accuracy: 0.9178\n",
      "Epoch 45/100\n",
      "32/32 [==============================] - 0s 8ms/step - loss: 0.2588 - accuracy: 0.8904 - val_loss: 0.1908 - val_accuracy: 0.9132\n",
      "Epoch 46/100\n",
      "32/32 [==============================] - 0s 7ms/step - loss: 0.2579 - accuracy: 0.8865 - val_loss: 0.1873 - val_accuracy: 0.9224\n",
      "Epoch 47/100\n",
      "32/32 [==============================] - 0s 7ms/step - loss: 0.2589 - accuracy: 0.8845 - val_loss: 0.1877 - val_accuracy: 0.9224\n",
      "Epoch 48/100\n",
      "32/32 [==============================] - 0s 8ms/step - loss: 0.2580 - accuracy: 0.8885 - val_loss: 0.1845 - val_accuracy: 0.9178\n",
      "Epoch 49/100\n",
      "32/32 [==============================] - 0s 8ms/step - loss: 0.2577 - accuracy: 0.8904 - val_loss: 0.1836 - val_accuracy: 0.9178\n",
      "Epoch 50/100\n",
      "32/32 [==============================] - 0s 10ms/step - loss: 0.2589 - accuracy: 0.8845 - val_loss: 0.1878 - val_accuracy: 0.9224\n",
      "Epoch 51/100\n",
      "32/32 [==============================] - 0s 8ms/step - loss: 0.2580 - accuracy: 0.8855 - val_loss: 0.1859 - val_accuracy: 0.9224\n",
      "Epoch 52/100\n",
      "32/32 [==============================] - 0s 7ms/step - loss: 0.2582 - accuracy: 0.8865 - val_loss: 0.1929 - val_accuracy: 0.9178\n",
      "Epoch 53/100\n",
      "32/32 [==============================] - 0s 8ms/step - loss: 0.2592 - accuracy: 0.8855 - val_loss: 0.1893 - val_accuracy: 0.9178\n",
      "Epoch 54/100\n",
      "32/32 [==============================] - 0s 8ms/step - loss: 0.2582 - accuracy: 0.8845 - val_loss: 0.1856 - val_accuracy: 0.9224\n",
      "Epoch 55/100\n",
      "32/32 [==============================] - 0s 8ms/step - loss: 0.2588 - accuracy: 0.8845 - val_loss: 0.1922 - val_accuracy: 0.9132\n",
      "Epoch 56/100\n",
      "32/32 [==============================] - 0s 7ms/step - loss: 0.2569 - accuracy: 0.8836 - val_loss: 0.1873 - val_accuracy: 0.9224\n",
      "Epoch 57/100\n",
      "32/32 [==============================] - 0s 7ms/step - loss: 0.2574 - accuracy: 0.8855 - val_loss: 0.1851 - val_accuracy: 0.9224\n",
      "Epoch 58/100\n",
      "32/32 [==============================] - 0s 9ms/step - loss: 0.2568 - accuracy: 0.8894 - val_loss: 0.1847 - val_accuracy: 0.9178\n",
      "Epoch 59/100\n",
      "32/32 [==============================] - ETA: 0s - loss: 0.2561 - accuracy: 0.88 - 0s 7ms/step - loss: 0.2572 - accuracy: 0.8845 - val_loss: 0.1905 - val_accuracy: 0.9132\n",
      "Epoch 60/100\n",
      "32/32 [==============================] - 0s 7ms/step - loss: 0.2571 - accuracy: 0.8845 - val_loss: 0.1907 - val_accuracy: 0.9132\n",
      "Epoch 61/100\n",
      "32/32 [==============================] - 0s 7ms/step - loss: 0.2570 - accuracy: 0.8865 - val_loss: 0.1941 - val_accuracy: 0.9178\n",
      "Epoch 62/100\n",
      "32/32 [==============================] - 0s 7ms/step - loss: 0.2574 - accuracy: 0.8855 - val_loss: 0.1855 - val_accuracy: 0.9178\n",
      "Epoch 63/100\n",
      "32/32 [==============================] - 0s 7ms/step - loss: 0.2568 - accuracy: 0.8855 - val_loss: 0.1881 - val_accuracy: 0.9224\n",
      "Epoch 64/100\n",
      "32/32 [==============================] - 0s 7ms/step - loss: 0.2564 - accuracy: 0.8865 - val_loss: 0.1879 - val_accuracy: 0.9224\n",
      "Epoch 65/100\n",
      "32/32 [==============================] - 0s 7ms/step - loss: 0.2559 - accuracy: 0.8904 - val_loss: 0.1852 - val_accuracy: 0.9178\n",
      "Epoch 66/100\n",
      "32/32 [==============================] - 0s 7ms/step - loss: 0.2572 - accuracy: 0.8865 - val_loss: 0.1858 - val_accuracy: 0.9178\n",
      "Epoch 67/100\n",
      "32/32 [==============================] - 0s 8ms/step - loss: 0.2562 - accuracy: 0.8894 - val_loss: 0.1886 - val_accuracy: 0.9178\n",
      "Epoch 68/100\n",
      "32/32 [==============================] - 0s 7ms/step - loss: 0.2566 - accuracy: 0.8865 - val_loss: 0.1849 - val_accuracy: 0.9132\n",
      "Epoch 69/100\n",
      "32/32 [==============================] - 0s 7ms/step - loss: 0.2568 - accuracy: 0.8885 - val_loss: 0.1845 - val_accuracy: 0.9132\n",
      "Epoch 70/100\n",
      "32/32 [==============================] - 0s 7ms/step - loss: 0.2554 - accuracy: 0.8865 - val_loss: 0.1936 - val_accuracy: 0.9178\n",
      "Epoch 71/100\n",
      "32/32 [==============================] - 0s 7ms/step - loss: 0.2565 - accuracy: 0.8875 - val_loss: 0.1889 - val_accuracy: 0.9178\n",
      "Epoch 72/100\n",
      "32/32 [==============================] - 0s 8ms/step - loss: 0.2556 - accuracy: 0.8865 - val_loss: 0.1833 - val_accuracy: 0.9178\n",
      "Epoch 73/100\n",
      "32/32 [==============================] - 0s 7ms/step - loss: 0.2564 - accuracy: 0.8875 - val_loss: 0.1895 - val_accuracy: 0.9178\n",
      "Epoch 74/100\n",
      "32/32 [==============================] - 0s 7ms/step - loss: 0.2554 - accuracy: 0.8845 - val_loss: 0.1868 - val_accuracy: 0.9224\n",
      "Epoch 75/100\n",
      "32/32 [==============================] - 0s 8ms/step - loss: 0.2560 - accuracy: 0.8845 - val_loss: 0.1863 - val_accuracy: 0.9224\n",
      "Epoch 76/100\n",
      "32/32 [==============================] - 0s 7ms/step - loss: 0.2558 - accuracy: 0.8865 - val_loss: 0.1858 - val_accuracy: 0.9224\n",
      "Epoch 77/100\n",
      "32/32 [==============================] - 0s 7ms/step - loss: 0.2553 - accuracy: 0.8865 - val_loss: 0.1923 - val_accuracy: 0.9132\n",
      "Epoch 78/100\n",
      "32/32 [==============================] - 0s 8ms/step - loss: 0.2559 - accuracy: 0.8885 - val_loss: 0.1877 - val_accuracy: 0.9224\n",
      "Epoch 79/100\n",
      "32/32 [==============================] - 0s 7ms/step - loss: 0.2546 - accuracy: 0.8865 - val_loss: 0.1824 - val_accuracy: 0.9224\n",
      "Epoch 80/100\n",
      "32/32 [==============================] - 0s 8ms/step - loss: 0.2555 - accuracy: 0.8904 - val_loss: 0.1848 - val_accuracy: 0.9132\n",
      "Epoch 81/100\n",
      "32/32 [==============================] - 0s 7ms/step - loss: 0.2554 - accuracy: 0.8855 - val_loss: 0.1856 - val_accuracy: 0.9178\n",
      "Epoch 82/100\n",
      "32/32 [==============================] - 0s 7ms/step - loss: 0.2534 - accuracy: 0.8885 - val_loss: 0.1930 - val_accuracy: 0.9132\n",
      "Epoch 83/100\n",
      "32/32 [==============================] - 0s 7ms/step - loss: 0.2550 - accuracy: 0.8855 - val_loss: 0.1837 - val_accuracy: 0.9132\n",
      "Epoch 84/100\n",
      "32/32 [==============================] - 0s 7ms/step - loss: 0.2555 - accuracy: 0.8845 - val_loss: 0.1884 - val_accuracy: 0.9178\n",
      "Epoch 85/100\n",
      "32/32 [==============================] - 0s 8ms/step - loss: 0.2563 - accuracy: 0.8855 - val_loss: 0.1894 - val_accuracy: 0.9178\n",
      "Epoch 86/100\n",
      "32/32 [==============================] - 0s 8ms/step - loss: 0.2541 - accuracy: 0.8885 - val_loss: 0.1900 - val_accuracy: 0.9132\n",
      "Epoch 87/100\n",
      "32/32 [==============================] - 0s 7ms/step - loss: 0.2552 - accuracy: 0.8855 - val_loss: 0.1837 - val_accuracy: 0.9132\n",
      "Epoch 88/100\n",
      "32/32 [==============================] - 0s 7ms/step - loss: 0.2539 - accuracy: 0.8865 - val_loss: 0.1920 - val_accuracy: 0.9132\n",
      "Epoch 89/100\n",
      "32/32 [==============================] - 0s 7ms/step - loss: 0.2537 - accuracy: 0.8904 - val_loss: 0.1872 - val_accuracy: 0.9224\n",
      "Epoch 90/100\n",
      "32/32 [==============================] - 0s 8ms/step - loss: 0.2552 - accuracy: 0.8865 - val_loss: 0.1851 - val_accuracy: 0.9132\n",
      "Epoch 91/100\n",
      "32/32 [==============================] - 0s 7ms/step - loss: 0.2537 - accuracy: 0.8894 - val_loss: 0.1872 - val_accuracy: 0.9224\n",
      "Epoch 92/100\n",
      "32/32 [==============================] - 0s 7ms/step - loss: 0.2549 - accuracy: 0.8875 - val_loss: 0.1873 - val_accuracy: 0.9224\n",
      "Epoch 93/100\n",
      "32/32 [==============================] - 0s 7ms/step - loss: 0.2533 - accuracy: 0.8885 - val_loss: 0.1821 - val_accuracy: 0.9224\n",
      "Epoch 94/100\n",
      "32/32 [==============================] - 0s 7ms/step - loss: 0.2547 - accuracy: 0.8865 - val_loss: 0.1850 - val_accuracy: 0.9132\n",
      "Epoch 95/100\n",
      "32/32 [==============================] - 0s 7ms/step - loss: 0.2543 - accuracy: 0.8865 - val_loss: 0.1911 - val_accuracy: 0.9132\n",
      "Epoch 96/100\n",
      "32/32 [==============================] - 0s 7ms/step - loss: 0.2543 - accuracy: 0.8875 - val_loss: 0.1883 - val_accuracy: 0.9178\n",
      "Epoch 97/100\n",
      "32/32 [==============================] - 0s 8ms/step - loss: 0.2545 - accuracy: 0.8894 - val_loss: 0.1859 - val_accuracy: 0.9224\n",
      "Epoch 98/100\n",
      "32/32 [==============================] - 0s 7ms/step - loss: 0.2550 - accuracy: 0.8904 - val_loss: 0.1832 - val_accuracy: 0.9132\n",
      "Epoch 99/100\n",
      "32/32 [==============================] - 0s 8ms/step - loss: 0.2541 - accuracy: 0.8845 - val_loss: 0.1831 - val_accuracy: 0.9132\n",
      "Epoch 100/100\n",
      "32/32 [==============================] - 0s 7ms/step - loss: 0.2536 - accuracy: 0.8894 - val_loss: 0.1833 - val_accuracy: 0.9132\n"
     ]
    }
   ],
   "source": [
    "hist = model.fit(X_train, Y_train,\n",
    "          batch_size=32, epochs=100,\n",
    "          validation_data=(X_val, Y_val))"
   ]
  },
  {
   "cell_type": "markdown",
   "metadata": {},
   "source": [
    "To find the accuracy on our test set. \n",
    "The reason why we have the index 1 after the model.evaluate function is because the function returns the loss as the first element and the accuracy as the second element."
   ]
  },
  {
   "cell_type": "code",
   "execution_count": 86,
   "metadata": {},
   "outputs": [
    {
     "name": "stdout",
     "output_type": "stream",
     "text": [
      "7/7 [==============================] - 0s 4ms/step - loss: 0.2269 - accuracy: 0.9269\n"
     ]
    },
    {
     "data": {
      "text/plain": [
       "0.9269406199455261"
      ]
     },
     "execution_count": 86,
     "metadata": {},
     "output_type": "execute_result"
    }
   ],
   "source": [
    "model.evaluate(X_test, Y_test)[1]"
   ]
  },
  {
   "cell_type": "code",
   "execution_count": 87,
   "metadata": {},
   "outputs": [],
   "source": [
    "import matplotlib.pyplot as plt"
   ]
  },
  {
   "cell_type": "code",
   "execution_count": 88,
   "metadata": {},
   "outputs": [
    {
     "data": {
      "image/png": "[encoded data removed]",
      "text/plain": [
       "<Figure size 432x288 with 1 Axes>"
      ]
     },
     "metadata": {
      "needs_background": "light"
     },
     "output_type": "display_data"
    }
   ],
   "source": [
    "plt.plot(hist.history['loss'])\n",
    "plt.plot(hist.history['val_loss'])\n",
    "plt.title('Model loss')\n",
    "plt.ylabel('Loss')\n",
    "plt.xlabel('Epoch')\n",
    "plt.legend(['Train', 'Val'], loc='upper right')\n",
    "plt.show()"
   ]
  },
  {
   "cell_type": "code",
   "execution_count": 89,
   "metadata": {},
   "outputs": [
    {
     "data": {
      "image/png": "[encoded data removed]",
      "text/plain": [
       "<Figure size 432x288 with 1 Axes>"
      ]
     },
     "metadata": {
      "needs_background": "light"
     },
     "output_type": "display_data"
    }
   ],
   "source": [
    "plt.plot(hist.history['accuracy'])\n",
    "plt.plot(hist.history['val_accuracy'])\n",
    "plt.title('Model accuracy')\n",
    "plt.ylabel('Accuracy')\n",
    "plt.xlabel('Epoch')\n",
    "plt.legend(['Train', 'Val'], loc='lower right')\n",
    "plt.show()"
   ]
  },
  {
   "cell_type": "code",
   "execution_count": 90,
   "metadata": {},
   "outputs": [
    {
     "name": "stdout",
     "output_type": "stream",
     "text": [
      "Epoch 1/100\n",
      "64/64 [==============================] - 5s 55ms/step - loss: 0.5530 - accuracy: 0.6984 - val_loss: 0.2381 - val_accuracy: 0.8950\n",
      "Epoch 2/100\n",
      "64/64 [==============================] - 2s 33ms/step - loss: 0.3689 - accuracy: 0.8601 - val_loss: 0.2283 - val_accuracy: 0.9087\n",
      "Epoch 3/100\n",
      "64/64 [==============================] - 2s 29ms/step - loss: 0.3504 - accuracy: 0.8689 - val_loss: 0.2094 - val_accuracy: 0.9041\n",
      "Epoch 4/100\n",
      "64/64 [==============================] - 2s 29ms/step - loss: 0.3121 - accuracy: 0.8708 - val_loss: 0.2575 - val_accuracy: 0.9087\n",
      "Epoch 5/100\n",
      "64/64 [==============================] - 2s 28ms/step - loss: 0.2969 - accuracy: 0.8576 - val_loss: 0.2034 - val_accuracy: 0.9132\n",
      "Epoch 6/100\n",
      "64/64 [==============================] - 2s 30ms/step - loss: 0.3121 - accuracy: 0.8583 - val_loss: 0.1864 - val_accuracy: 0.9041\n",
      "Epoch 7/100\n",
      "64/64 [==============================] - 2s 27ms/step - loss: 0.3203 - accuracy: 0.8806 - val_loss: 0.2326 - val_accuracy: 0.9087\n",
      "Epoch 8/100\n",
      "64/64 [==============================] - 2s 27ms/step - loss: 0.2543 - accuracy: 0.8921 - val_loss: 0.2376 - val_accuracy: 0.9087\n",
      "Epoch 9/100\n",
      "64/64 [==============================] - 2s 27ms/step - loss: 0.2970 - accuracy: 0.8863 - val_loss: 0.1985 - val_accuracy: 0.9406\n",
      "Epoch 10/100\n",
      "64/64 [==============================] - 2s 27ms/step - loss: 0.2443 - accuracy: 0.8951 - val_loss: 0.2266 - val_accuracy: 0.9178\n",
      "Epoch 11/100\n",
      "64/64 [==============================] - 2s 27ms/step - loss: 0.2896 - accuracy: 0.8745 - val_loss: 0.1763 - val_accuracy: 0.9269\n",
      "Epoch 12/100\n",
      "64/64 [==============================] - 2s 27ms/step - loss: 0.2383 - accuracy: 0.9008 - val_loss: 0.1751 - val_accuracy: 0.9224\n",
      "Epoch 13/100\n",
      "64/64 [==============================] - 2s 27ms/step - loss: 0.2582 - accuracy: 0.8983 - val_loss: 0.1793 - val_accuracy: 0.9269\n",
      "Epoch 14/100\n",
      "64/64 [==============================] - 2s 27ms/step - loss: 0.2828 - accuracy: 0.8760 - val_loss: 0.1758 - val_accuracy: 0.9178\n",
      "Epoch 15/100\n",
      "64/64 [==============================] - 2s 27ms/step - loss: 0.2345 - accuracy: 0.9043 - val_loss: 0.2276 - val_accuracy: 0.8995\n",
      "Epoch 16/100\n",
      "64/64 [==============================] - 2s 28ms/step - loss: 0.2674 - accuracy: 0.8765 - val_loss: 0.2420 - val_accuracy: 0.8813\n",
      "Epoch 17/100\n",
      "64/64 [==============================] - 2s 27ms/step - loss: 0.2531 - accuracy: 0.9031 - val_loss: 0.1713 - val_accuracy: 0.9178\n",
      "Epoch 18/100\n",
      "64/64 [==============================] - 2s 27ms/step - loss: 0.2109 - accuracy: 0.9134 - val_loss: 0.1911 - val_accuracy: 0.9132\n",
      "Epoch 19/100\n",
      "64/64 [==============================] - 2s 27ms/step - loss: 0.2249 - accuracy: 0.8952 - val_loss: 0.1589 - val_accuracy: 0.9406 \n",
      "Epoch 20/100\n",
      "64/64 [==============================] - 2s 27ms/step - loss: 0.2041 - accuracy: 0.9159 - val_loss: 0.1620 - val_accuracy: 0.9224\n",
      "Epoch 21/100\n",
      "64/64 [==============================] - 2s 27ms/step - loss: 0.2113 - accuracy: 0.9226 - val_loss: 0.2100 - val_accuracy: 0.9087\n",
      "Epoch 22/100\n",
      "64/64 [==============================] - 2s 27ms/step - loss: 0.2227 - accuracy: 0.9112 - val_loss: 0.1776 - val_accuracy: 0.9087\n",
      "Epoch 23/100\n",
      "64/64 [==============================] - 2s 27ms/step - loss: 0.2488 - accuracy: 0.8924 - val_loss: 0.1575 - val_accuracy: 0.9315\n",
      "Epoch 24/100\n",
      "64/64 [==============================] - 2s 27ms/step - loss: 0.2006 - accuracy: 0.9038 - val_loss: 0.1909 - val_accuracy: 0.9087\n",
      "Epoch 25/100\n",
      "64/64 [==============================] - 2s 27ms/step - loss: 0.2098 - accuracy: 0.9152 - val_loss: 0.1668 - val_accuracy: 0.9498\n",
      "Epoch 26/100\n",
      "64/64 [==============================] - 2s 27ms/step - loss: 0.2128 - accuracy: 0.9090 - val_loss: 0.1968 - val_accuracy: 0.9361\n",
      "Epoch 27/100\n",
      "64/64 [==============================] - 2s 27ms/step - loss: 0.2079 - accuracy: 0.9150 - val_loss: 0.2069 - val_accuracy: 0.9224\n",
      "Epoch 28/100\n",
      "64/64 [==============================] - 2s 27ms/step - loss: 0.2388 - accuracy: 0.9052 - val_loss: 0.1848 - val_accuracy: 0.9132\n",
      "Epoch 29/100\n",
      "64/64 [==============================] - 2s 27ms/step - loss: 0.1816 - accuracy: 0.9209 - val_loss: 0.1728 - val_accuracy: 0.9361\n",
      "Epoch 30/100\n",
      "64/64 [==============================] - 2s 27ms/step - loss: 0.2019 - accuracy: 0.9166 - val_loss: 0.2146 - val_accuracy: 0.9315\n",
      "Epoch 31/100\n",
      "64/64 [==============================] - 2s 27ms/step - loss: 0.2098 - accuracy: 0.9173 - val_loss: 0.2132 - val_accuracy: 0.9087\n",
      "Epoch 32/100\n",
      "64/64 [==============================] - 2s 28ms/step - loss: 0.1846 - accuracy: 0.9173 - val_loss: 0.1803 - val_accuracy: 0.9178\n",
      "Epoch 33/100\n",
      "64/64 [==============================] - 2s 27ms/step - loss: 0.2215 - accuracy: 0.9046 - val_loss: 0.2017 - val_accuracy: 0.9406\n",
      "Epoch 34/100\n",
      "64/64 [==============================] - 2s 27ms/step - loss: 0.2238 - accuracy: 0.9029 - val_loss: 0.2316 - val_accuracy: 0.9132\n",
      "Epoch 35/100\n",
      "64/64 [==============================] - 2s 27ms/step - loss: 0.2122 - accuracy: 0.9168 - val_loss: 0.2188 - val_accuracy: 0.9132\n",
      "Epoch 36/100\n",
      "64/64 [==============================] - 2s 27ms/step - loss: 0.1812 - accuracy: 0.9193 - val_loss: 0.2282 - val_accuracy: 0.9315\n",
      "Epoch 37/100\n",
      "64/64 [==============================] - 2s 27ms/step - loss: 0.2183 - accuracy: 0.9046 - val_loss: 0.2674 - val_accuracy: 0.8950\n",
      "Epoch 38/100\n",
      "64/64 [==============================] - 2s 27ms/step - loss: 0.2065 - accuracy: 0.9118 - val_loss: 0.2099 - val_accuracy: 0.9406\n",
      "Epoch 39/100\n",
      "64/64 [==============================] - 2s 27ms/step - loss: 0.2095 - accuracy: 0.9167 - val_loss: 0.1810 - val_accuracy: 0.9269\n",
      "Epoch 40/100\n",
      "64/64 [==============================] - 2s 27ms/step - loss: 0.2026 - accuracy: 0.9077 - val_loss: 0.2042 - val_accuracy: 0.9224\n",
      "Epoch 41/100\n",
      "64/64 [==============================] - 2s 27ms/step - loss: 0.1731 - accuracy: 0.9291 - val_loss: 0.2628 - val_accuracy: 0.8950\n",
      "Epoch 42/100\n",
      "64/64 [==============================] - 2s 27ms/step - loss: 0.2001 - accuracy: 0.9134 - val_loss: 0.2340 - val_accuracy: 0.9087\n",
      "Epoch 43/100\n",
      "64/64 [==============================] - ETA: 0s - loss: 0.2474 - accuracy: 0.90 - 2s 27ms/step - loss: 0.2461 - accuracy: 0.9098 - val_loss: 0.1558 - val_accuracy: 0.9224\n",
      "Epoch 44/100\n",
      "64/64 [==============================] - 2s 27ms/step - loss: 0.2095 - accuracy: 0.9149 - val_loss: 0.2052 - val_accuracy: 0.9269\n",
      "Epoch 45/100\n",
      "64/64 [==============================] - 2s 27ms/step - loss: 0.1602 - accuracy: 0.9295 - val_loss: 0.2027 - val_accuracy: 0.9178\n",
      "Epoch 46/100\n",
      "64/64 [==============================] - 2s 27ms/step - loss: 0.1940 - accuracy: 0.9090 - val_loss: 0.1864 - val_accuracy: 0.9178\n",
      "Epoch 47/100\n",
      "64/64 [==============================] - 2s 27ms/step - loss: 0.1627 - accuracy: 0.9381 - val_loss: 0.1881 - val_accuracy: 0.9087\n",
      "Epoch 48/100\n",
      "64/64 [==============================] - 2s 27ms/step - loss: 0.2123 - accuracy: 0.8943 - val_loss: 0.1953 - val_accuracy: 0.9269\n",
      "Epoch 49/100\n",
      "64/64 [==============================] - 2s 27ms/step - loss: 0.1719 - accuracy: 0.9208 - val_loss: 0.2246 - val_accuracy: 0.9224\n",
      "Epoch 50/100\n",
      "64/64 [==============================] - 2s 27ms/step - loss: 0.1725 - accuracy: 0.9241 - val_loss: 0.2209 - val_accuracy: 0.9041s - loss: 0.1674 - accu\n",
      "Epoch 51/100\n",
      "64/64 [==============================] - 2s 27ms/step - loss: 0.1653 - accuracy: 0.9328 - val_loss: 0.2993 - val_accuracy: 0.9087\n",
      "Epoch 52/100\n",
      "64/64 [==============================] - 2s 27ms/step - loss: 0.1651 - accuracy: 0.9302 - val_loss: 0.3989 - val_accuracy: 0.8493\n",
      "Epoch 53/100\n",
      "64/64 [==============================] - 2s 27ms/step - loss: 0.2129 - accuracy: 0.9082 - val_loss: 0.2732 - val_accuracy: 0.9361\n",
      "Epoch 54/100\n",
      "64/64 [==============================] - 2s 27ms/step - loss: 0.2147 - accuracy: 0.9145 - val_loss: 0.2031 - val_accuracy: 0.9178\n",
      "Epoch 55/100\n",
      "64/64 [==============================] - 2s 27ms/step - loss: 0.1612 - accuracy: 0.9381 - val_loss: 0.2182 - val_accuracy: 0.9087\n",
      "Epoch 56/100\n",
      "64/64 [==============================] - 2s 27ms/step - loss: 0.2098 - accuracy: 0.9150 - val_loss: 0.2596 - val_accuracy: 0.9087\n",
      "Epoch 57/100\n",
      "64/64 [==============================] - 2s 27ms/step - loss: 0.1696 - accuracy: 0.9210 - val_loss: 0.1958 - val_accuracy: 0.9132\n",
      "Epoch 58/100\n",
      "64/64 [==============================] - 2s 27ms/step - loss: 0.1910 - accuracy: 0.9096 - val_loss: 0.2050 - val_accuracy: 0.9178\n",
      "Epoch 59/100\n",
      "64/64 [==============================] - 2s 27ms/step - loss: 0.1434 - accuracy: 0.9306 - val_loss: 0.2986 - val_accuracy: 0.9178\n",
      "Epoch 60/100\n",
      "64/64 [==============================] - 2s 27ms/step - loss: 0.2033 - accuracy: 0.9058 - val_loss: 0.2048 - val_accuracy: 0.9087\n",
      "Epoch 61/100\n",
      "64/64 [==============================] - 2s 27ms/step - loss: 0.1593 - accuracy: 0.9375 - val_loss: 0.2320 - val_accuracy: 0.9178\n",
      "Epoch 62/100\n",
      "64/64 [==============================] - 2s 27ms/step - loss: 0.2035 - accuracy: 0.9114 - val_loss: 0.2226 - val_accuracy: 0.9224\n",
      "Epoch 63/100\n",
      "64/64 [==============================] - 2s 27ms/step - loss: 0.1895 - accuracy: 0.9217 - val_loss: 0.2431 - val_accuracy: 0.9178\n",
      "Epoch 64/100\n",
      "64/64 [==============================] - 2s 27ms/step - loss: 0.1574 - accuracy: 0.9339 - val_loss: 0.2409 - val_accuracy: 0.9269\n",
      "Epoch 65/100\n",
      "64/64 [==============================] - 2s 27ms/step - loss: 0.1344 - accuracy: 0.9367 - val_loss: 0.2537 - val_accuracy: 0.9269\n",
      "Epoch 66/100\n",
      "64/64 [==============================] - 2s 27ms/step - loss: 0.1812 - accuracy: 0.9307 - val_loss: 0.2075 - val_accuracy: 0.9269\n",
      "Epoch 67/100\n",
      "64/64 [==============================] - 2s 27ms/step - loss: 0.1764 - accuracy: 0.9329 - val_loss: 0.1866 - val_accuracy: 0.9315\n",
      "Epoch 68/100\n",
      "64/64 [==============================] - 2s 27ms/step - loss: 0.1892 - accuracy: 0.9294 - val_loss: 0.2617 - val_accuracy: 0.9132\n",
      "Epoch 69/100\n",
      "64/64 [==============================] - 2s 27ms/step - loss: 0.1660 - accuracy: 0.9332 - val_loss: 0.2516 - val_accuracy: 0.9269\n",
      "Epoch 70/100\n",
      "64/64 [==============================] - 2s 27ms/step - loss: 0.1412 - accuracy: 0.9361 - val_loss: 0.2648 - val_accuracy: 0.8995\n",
      "Epoch 71/100\n",
      "64/64 [==============================] - 2s 27ms/step - loss: 0.1573 - accuracy: 0.9235 - val_loss: 0.2327 - val_accuracy: 0.9087\n",
      "Epoch 72/100\n",
      "64/64 [==============================] - 2s 27ms/step - loss: 0.1459 - accuracy: 0.9426 - val_loss: 0.2764 - val_accuracy: 0.9224\n",
      "Epoch 73/100\n",
      "64/64 [==============================] - 2s 27ms/step - loss: 0.1382 - accuracy: 0.9406 - val_loss: 0.2887 - val_accuracy: 0.8995\n",
      "Epoch 74/100\n",
      "64/64 [==============================] - 2s 27ms/step - loss: 0.1617 - accuracy: 0.9283 - val_loss: 0.2953 - val_accuracy: 0.9178\n",
      "Epoch 75/100\n",
      "64/64 [==============================] - 2s 27ms/step - loss: 0.1842 - accuracy: 0.9109 - val_loss: 0.2567 - val_accuracy: 0.9041\n",
      "Epoch 76/100\n",
      "64/64 [==============================] - 2s 27ms/step - loss: 0.1967 - accuracy: 0.9230 - val_loss: 0.3361 - val_accuracy: 0.9178\n",
      "Epoch 77/100\n",
      "64/64 [==============================] - 2s 27ms/step - loss: 0.1660 - accuracy: 0.9347 - val_loss: 0.2161 - val_accuracy: 0.9087\n",
      "Epoch 78/100\n",
      "64/64 [==============================] - 2s 28ms/step - loss: 0.1735 - accuracy: 0.9212 - val_loss: 0.2718 - val_accuracy: 0.9132\n",
      "Epoch 79/100\n",
      "64/64 [==============================] - 2s 27ms/step - loss: 0.1406 - accuracy: 0.9347 - val_loss: 0.2904 - val_accuracy: 0.9087\n",
      "Epoch 80/100\n",
      "64/64 [==============================] - 2s 27ms/step - loss: 0.1492 - accuracy: 0.9220 - val_loss: 0.2344 - val_accuracy: 0.9269\n",
      "Epoch 81/100\n",
      "64/64 [==============================] - 2s 27ms/step - loss: 0.1731 - accuracy: 0.9303 - val_loss: 0.3051 - val_accuracy: 0.9087\n",
      "Epoch 82/100\n",
      "64/64 [==============================] - 2s 27ms/step - loss: 0.1281 - accuracy: 0.9373 - val_loss: 0.3307 - val_accuracy: 0.9269\n",
      "Epoch 83/100\n",
      "64/64 [==============================] - 2s 27ms/step - loss: 0.1284 - accuracy: 0.9415 - val_loss: 0.2722 - val_accuracy: 0.9087\n",
      "Epoch 84/100\n",
      "64/64 [==============================] - 2s 27ms/step - loss: 0.1528 - accuracy: 0.9295 - val_loss: 0.3125 - val_accuracy: 0.9132\n",
      "Epoch 85/100\n",
      "64/64 [==============================] - 2s 28ms/step - loss: 0.1411 - accuracy: 0.9421 - val_loss: 0.3513 - val_accuracy: 0.9224\n",
      "Epoch 86/100\n",
      "64/64 [==============================] - 2s 27ms/step - loss: 0.1635 - accuracy: 0.9373 - val_loss: 0.1871 - val_accuracy: 0.9178\n",
      "Epoch 87/100\n",
      "64/64 [==============================] - 2s 27ms/step - loss: 0.1906 - accuracy: 0.9221 - val_loss: 0.2994 - val_accuracy: 0.9132\n",
      "Epoch 88/100\n",
      "64/64 [==============================] - 2s 27ms/step - loss: 0.1644 - accuracy: 0.9285 - val_loss: 0.3673 - val_accuracy: 0.8721\n",
      "Epoch 89/100\n",
      "64/64 [==============================] - 2s 27ms/step - loss: 0.1553 - accuracy: 0.9366 - val_loss: 0.3460 - val_accuracy: 0.9087\n",
      "Epoch 90/100\n",
      "64/64 [==============================] - 2s 27ms/step - loss: 0.1338 - accuracy: 0.9483 - val_loss: 0.4628 - val_accuracy: 0.8995\n",
      "Epoch 91/100\n",
      "64/64 [==============================] - 2s 27ms/step - loss: 0.1582 - accuracy: 0.9304 - val_loss: 0.3340 - val_accuracy: 0.9178\n",
      "Epoch 92/100\n",
      "64/64 [==============================] - 2s 27ms/step - loss: 0.1370 - accuracy: 0.9468 - val_loss: 0.3238 - val_accuracy: 0.9224\n",
      "Epoch 93/100\n",
      "64/64 [==============================] - 2s 27ms/step - loss: 0.1403 - accuracy: 0.9450 - val_loss: 0.3034 - val_accuracy: 0.9361\n",
      "Epoch 94/100\n",
      "64/64 [==============================] - 2s 27ms/step - loss: 0.1734 - accuracy: 0.9313 - val_loss: 0.2757 - val_accuracy: 0.9224\n",
      "Epoch 95/100\n",
      "64/64 [==============================] - 2s 27ms/step - loss: 0.1209 - accuracy: 0.9441 - val_loss: 0.3240 - val_accuracy: 0.9224\n",
      "Epoch 96/100\n",
      "64/64 [==============================] - 2s 27ms/step - loss: 0.1415 - accuracy: 0.9394 - val_loss: 0.3735 - val_accuracy: 0.8995\n",
      "Epoch 97/100\n",
      "64/64 [==============================] - 2s 27ms/step - loss: 0.1131 - accuracy: 0.9541 - val_loss: 0.4585 - val_accuracy: 0.9041\n",
      "Epoch 98/100\n",
      "64/64 [==============================] - 2s 27ms/step - loss: 0.1595 - accuracy: 0.9358 - val_loss: 0.2847 - val_accuracy: 0.9269\n",
      "Epoch 99/100\n",
      "64/64 [==============================] - 2s 27ms/step - loss: 0.1287 - accuracy: 0.9516 - val_loss: 0.4024 - val_accuracy: 0.9269\n",
      "Epoch 100/100\n",
      "64/64 [==============================] - 2s 27ms/step - loss: 0.1061 - accuracy: 0.9564 - val_loss: 0.3343 - val_accuracy: 0.9269\n"
     ]
    }
   ],
   "source": [
    "model_2 = Sequential([\n",
    "    Dense(1000, activation='relu', input_shape=(10,)),\n",
    "    Dense(1000, activation='relu'),\n",
    "    Dense(1000, activation='relu'),\n",
    "    Dense(1000, activation='relu'),\n",
    "    Dense(1,   activation='sigmoid'),\n",
    "])\n",
    "\n",
    "model_2.compile(optimizer='adam',\n",
    "              loss='binary_crossentropy',\n",
    "              metrics=['accuracy'])\n",
    "              \n",
    "hist_2 = model_2.fit(X_train, Y_train,\n",
    "          batch_size=16, epochs=100,\n",
    "          validation_data=(X_val, Y_val))"
   ]
  },
  {
   "cell_type": "code",
   "execution_count": 91,
   "metadata": {},
   "outputs": [
    {
     "name": "stdout",
     "output_type": "stream",
     "text": [
      "7/7 [==============================] - 0s 21ms/step - loss: 0.4497 - accuracy: 0.8950\n"
     ]
    },
    {
     "data": {
      "text/plain": [
       "0.8949771523475647"
      ]
     },
     "execution_count": 91,
     "metadata": {},
     "output_type": "execute_result"
    }
   ],
   "source": [
    "model_2.evaluate(X_test, Y_test)[1]"
   ]
  },
  {
   "cell_type": "code",
   "execution_count": 92,
   "metadata": {},
   "outputs": [
    {
     "data": {
      "image/png": "[encoded data removed]",
      "text/plain": [
       "<Figure size 432x288 with 1 Axes>"
      ]
     },
     "metadata": {
      "needs_background": "light"
     },
     "output_type": "display_data"
    }
   ],
   "source": [
    "plt.plot(hist_2.history['loss'])\n",
    "plt.plot(hist_2.history['val_loss'])\n",
    "plt.title('Model loss')\n",
    "plt.ylabel('Loss')\n",
    "plt.xlabel('Epoch')\n",
    "plt.legend(['Train', 'Val'], loc='upper right')\n",
    "plt.show()"
   ]
  },
  {
   "cell_type": "code",
   "execution_count": 93,
   "metadata": {},
   "outputs": [
    {
     "data": {
      "image/png": "[encoded data removed]",
      "text/plain": [
       "<Figure size 432x288 with 1 Axes>"
      ]
     },
     "metadata": {
      "needs_background": "light"
     },
     "output_type": "display_data"
    }
   ],
   "source": [
    "plt.plot(hist_2.history['accuracy'])\n",
    "plt.plot(hist_2.history['val_accuracy'])\n",
    "plt.title('Model accuracy')\n",
    "plt.ylabel('Accuracy')\n",
    "plt.xlabel('Epoch')\n",
    "plt.legend(['Train', 'Val'], loc='lower right')\n",
    "plt.show()"
   ]
  },
  {
   "cell_type": "code",
   "execution_count": 94,
   "metadata": {},
   "outputs": [],
   "source": [
    "from keras.layers import Dropout\n",
    "from keras import regularizers"
   ]
  },
  {
   "cell_type": "code",
   "execution_count": 95,
   "metadata": {},
   "outputs": [],
   "source": [
    "model_3 = Sequential([\n",
    "    Dense(1000, activation='relu', kernel_regularizer=regularizers.l2(0.01), input_shape=(10,)),\n",
    "    Dropout(0.2),\n",
    "    Dense(1000, activation='relu', kernel_regularizer=regularizers.l2(0.01)),\n",
    "    Dropout(0.2),\n",
    "    Dense(1000, activation='relu', kernel_regularizer=regularizers.l2(0.01)),\n",
    "    Dropout(0.2),\n",
    "    Dense(1000, activation='relu', kernel_regularizer=regularizers.l2(0.01)),\n",
    "    Dropout(0.2),\n",
    "    Dense(1, activation='sigmoid', kernel_regularizer=regularizers.l2(0.01)),\n",
    "])"
   ]
  },
  {
   "cell_type": "code",
   "execution_count": 97,
   "metadata": {},
   "outputs": [
    {
     "name": "stdout",
     "output_type": "stream",
     "text": [
      "Epoch 1/100\n",
      "64/64 [==============================] - 10s 84ms/step - loss: 0.4767 - accuracy: 0.8587 - val_loss: 0.3530 - val_accuracy: 0.9315\n",
      "Epoch 2/100\n",
      "64/64 [==============================] - 3s 46ms/step - loss: 0.4880 - accuracy: 0.8638 - val_loss: 0.3801 - val_accuracy: 0.9087\n",
      "Epoch 3/100\n",
      "64/64 [==============================] - 3s 47ms/step - loss: 0.4711 - accuracy: 0.8697 - val_loss: 0.3699 - val_accuracy: 0.9041\n",
      "Epoch 4/100\n",
      "64/64 [==============================] - 3s 44ms/step - loss: 0.4339 - accuracy: 0.8726 - val_loss: 0.3733 - val_accuracy: 0.9132\n",
      "Epoch 5/100\n",
      "64/64 [==============================] - 3s 45ms/step - loss: 0.4220 - accuracy: 0.8817 - val_loss: 0.3980 - val_accuracy: 0.8950\n",
      "Epoch 6/100\n",
      "64/64 [==============================] - 3s 45ms/step - loss: 0.4597 - accuracy: 0.8663 - val_loss: 0.3550 - val_accuracy: 0.9087\n",
      "Epoch 7/100\n",
      "64/64 [==============================] - 3s 45ms/step - loss: 0.4458 - accuracy: 0.8710 - val_loss: 0.3799 - val_accuracy: 0.9041\n",
      "Epoch 8/100\n",
      "64/64 [==============================] - 3s 45ms/step - loss: 0.4581 - accuracy: 0.8604 - val_loss: 0.3689 - val_accuracy: 0.9132\n",
      "Epoch 9/100\n",
      "64/64 [==============================] - 3s 46ms/step - loss: 0.4545 - accuracy: 0.8669 - val_loss: 0.5212 - val_accuracy: 0.8356\n",
      "Epoch 10/100\n",
      "64/64 [==============================] - 3s 44ms/step - loss: 0.4828 - accuracy: 0.8575 - val_loss: 0.4120 - val_accuracy: 0.8858\n",
      "Epoch 11/100\n",
      "64/64 [==============================] - 3s 45ms/step - loss: 0.4406 - accuracy: 0.8768 - val_loss: 0.3962 - val_accuracy: 0.8950\n",
      "Epoch 12/100\n",
      "64/64 [==============================] - 3s 44ms/step - loss: 0.4712 - accuracy: 0.8584 - val_loss: 0.4011 - val_accuracy: 0.8950\n",
      "Epoch 13/100\n",
      "64/64 [==============================] - 3s 46ms/step - loss: 0.4637 - accuracy: 0.8738 - val_loss: 0.3666 - val_accuracy: 0.8995\n",
      "Epoch 14/100\n",
      "64/64 [==============================] - 3s 45ms/step - loss: 0.4263 - accuracy: 0.8757 - val_loss: 0.3899 - val_accuracy: 0.9041\n",
      "Epoch 15/100\n",
      "64/64 [==============================] - 3s 45ms/step - loss: 0.4468 - accuracy: 0.8692 - val_loss: 0.3563 - val_accuracy: 0.9269\n",
      "Epoch 16/100\n",
      "64/64 [==============================] - 3s 45ms/step - loss: 0.4775 - accuracy: 0.8610 - val_loss: 0.3559 - val_accuracy: 0.9224\n",
      "Epoch 17/100\n",
      "64/64 [==============================] - 3s 45ms/step - loss: 0.4496 - accuracy: 0.8700 - val_loss: 0.3782 - val_accuracy: 0.9087\n",
      "Epoch 18/100\n",
      "64/64 [==============================] - 3s 46ms/step - loss: 0.4387 - accuracy: 0.8888 - val_loss: 0.3580 - val_accuracy: 0.9178\n",
      "Epoch 19/100\n",
      "64/64 [==============================] - 3s 44ms/step - loss: 0.4520 - accuracy: 0.8786 - val_loss: 0.3582 - val_accuracy: 0.9087\n",
      "Epoch 20/100\n",
      "64/64 [==============================] - 3s 45ms/step - loss: 0.4583 - accuracy: 0.8601 - val_loss: 0.3556 - val_accuracy: 0.9041\n",
      "Epoch 21/100\n",
      "64/64 [==============================] - 3s 45ms/step - loss: 0.4290 - accuracy: 0.8755 - val_loss: 0.3558 - val_accuracy: 0.9132\n",
      "Epoch 22/100\n",
      "64/64 [==============================] - 3s 46ms/step - loss: 0.4452 - accuracy: 0.8704 - val_loss: 0.4505 - val_accuracy: 0.8767\n",
      "Epoch 23/100\n",
      "64/64 [==============================] - 3s 46ms/step - loss: 0.4833 - accuracy: 0.8530 - val_loss: 0.3737 - val_accuracy: 0.9041\n",
      "Epoch 24/100\n",
      "64/64 [==============================] - 3s 47ms/step - loss: 0.4566 - accuracy: 0.8846 - val_loss: 0.3568 - val_accuracy: 0.9269\n",
      "Epoch 25/100\n",
      "64/64 [==============================] - 3s 46ms/step - loss: 0.4381 - accuracy: 0.8974 - val_loss: 0.3943 - val_accuracy: 0.9041\n",
      "Epoch 26/100\n",
      "64/64 [==============================] - 3s 45ms/step - loss: 0.4739 - accuracy: 0.8836 - val_loss: 0.3535 - val_accuracy: 0.9087\n",
      "Epoch 27/100\n",
      "64/64 [==============================] - 3s 45ms/step - loss: 0.4193 - accuracy: 0.8983 - val_loss: 0.3650 - val_accuracy: 0.8995\n",
      "Epoch 28/100\n",
      "64/64 [==============================] - 3s 44ms/step - loss: 0.4549 - accuracy: 0.8646 - val_loss: 0.3807 - val_accuracy: 0.8995\n",
      "Epoch 29/100\n",
      "64/64 [==============================] - 3s 45ms/step - loss: 0.4392 - accuracy: 0.8865 - val_loss: 0.3565 - val_accuracy: 0.9087\n",
      "Epoch 30/100\n",
      "64/64 [==============================] - 3s 45ms/step - loss: 0.4127 - accuracy: 0.8880 - val_loss: 0.4003 - val_accuracy: 0.8950\n",
      "Epoch 31/100\n",
      "64/64 [==============================] - 3s 45ms/step - loss: 0.4486 - accuracy: 0.8854 - val_loss: 0.3674 - val_accuracy: 0.9087\n",
      "Epoch 32/100\n",
      "64/64 [==============================] - 3s 44ms/step - loss: 0.4516 - accuracy: 0.8681 - val_loss: 0.3647 - val_accuracy: 0.9178\n",
      "Epoch 33/100\n",
      "64/64 [==============================] - 3s 48ms/step - loss: 0.4684 - accuracy: 0.8619 - val_loss: 0.3713 - val_accuracy: 0.9087\n",
      "Epoch 34/100\n",
      "64/64 [==============================] - 3s 45ms/step - loss: 0.4248 - accuracy: 0.8844 - val_loss: 0.3583 - val_accuracy: 0.9087\n",
      "Epoch 35/100\n",
      "64/64 [==============================] - 3s 45ms/step - loss: 0.4651 - accuracy: 0.8653 - val_loss: 0.3757 - val_accuracy: 0.8995\n",
      "Epoch 36/100\n",
      "64/64 [==============================] - 3s 44ms/step - loss: 0.4402 - accuracy: 0.8791 - val_loss: 0.3755 - val_accuracy: 0.9041\n",
      "Epoch 37/100\n",
      "64/64 [==============================] - 3s 45ms/step - loss: 0.4105 - accuracy: 0.9015 - val_loss: 0.3594 - val_accuracy: 0.9224\n",
      "Epoch 38/100\n",
      "64/64 [==============================] - 3s 45ms/step - loss: 0.4360 - accuracy: 0.8788 - val_loss: 0.3514 - val_accuracy: 0.9269\n",
      "Epoch 39/100\n",
      "64/64 [==============================] - 3s 46ms/step - loss: 0.4404 - accuracy: 0.8852 - val_loss: 0.3535 - val_accuracy: 0.9269\n",
      "Epoch 40/100\n",
      "64/64 [==============================] - 3s 45ms/step - loss: 0.4489 - accuracy: 0.8672 - val_loss: 0.3698 - val_accuracy: 0.9087\n",
      "Epoch 41/100\n",
      "64/64 [==============================] - 3s 45ms/step - loss: 0.4216 - accuracy: 0.8823 - val_loss: 0.3598 - val_accuracy: 0.9041\n",
      "Epoch 42/100\n",
      "64/64 [==============================] - 3s 44ms/step - loss: 0.4756 - accuracy: 0.8382 - val_loss: 0.3818 - val_accuracy: 0.8995\n",
      "Epoch 43/100\n",
      "64/64 [==============================] - 3s 45ms/step - loss: 0.4881 - accuracy: 0.8473 - val_loss: 0.3791 - val_accuracy: 0.9041\n",
      "Epoch 44/100\n",
      "64/64 [==============================] - 3s 45ms/step - loss: 0.4684 - accuracy: 0.8560 - val_loss: 0.3508 - val_accuracy: 0.9178\n",
      "Epoch 45/100\n",
      "64/64 [==============================] - 3s 46ms/step - loss: 0.4447 - accuracy: 0.8756 - val_loss: 0.3512 - val_accuracy: 0.9224\n",
      "Epoch 46/100\n",
      "64/64 [==============================] - 3s 45ms/step - loss: 0.4720 - accuracy: 0.8643 - val_loss: 0.3584 - val_accuracy: 0.9087\n",
      "Epoch 47/100\n",
      "64/64 [==============================] - 3s 45ms/step - loss: 0.4215 - accuracy: 0.8851 - val_loss: 0.3815 - val_accuracy: 0.9041\n",
      "Epoch 48/100\n",
      "64/64 [==============================] - 3s 45ms/step - loss: 0.4378 - accuracy: 0.8715 - val_loss: 0.3806 - val_accuracy: 0.9041\n",
      "Epoch 49/100\n",
      "64/64 [==============================] - 3s 45ms/step - loss: 0.4385 - accuracy: 0.8836 - val_loss: 0.3635 - val_accuracy: 0.9269\n",
      "Epoch 50/100\n",
      "64/64 [==============================] - 3s 45ms/step - loss: 0.4469 - accuracy: 0.8695 - val_loss: 0.3753 - val_accuracy: 0.9087\n",
      "Epoch 51/100\n",
      "64/64 [==============================] - 3s 45ms/step - loss: 0.4239 - accuracy: 0.8861 - val_loss: 0.3792 - val_accuracy: 0.9087\n",
      "Epoch 52/100\n",
      "64/64 [==============================] - 3s 45ms/step - loss: 0.4749 - accuracy: 0.8688 - val_loss: 0.3928 - val_accuracy: 0.8950\n",
      "Epoch 53/100\n",
      "64/64 [==============================] - 3s 45ms/step - loss: 0.4382 - accuracy: 0.8690 - val_loss: 0.3647 - val_accuracy: 0.9224\n",
      "Epoch 54/100\n",
      "64/64 [==============================] - 3s 45ms/step - loss: 0.4514 - accuracy: 0.8813 - val_loss: 0.3596 - val_accuracy: 0.9087\n",
      "Epoch 55/100\n",
      "64/64 [==============================] - 3s 45ms/step - loss: 0.4387 - accuracy: 0.8750 - val_loss: 0.3521 - val_accuracy: 0.9178\n",
      "Epoch 56/100\n",
      "64/64 [==============================] - 3s 44ms/step - loss: 0.4435 - accuracy: 0.8737 - val_loss: 0.3582 - val_accuracy: 0.9132\n",
      "Epoch 57/100\n",
      "64/64 [==============================] - 3s 45ms/step - loss: 0.4733 - accuracy: 0.8580 - val_loss: 0.3603 - val_accuracy: 0.9041\n",
      "Epoch 58/100\n",
      "64/64 [==============================] - 3s 44ms/step - loss: 0.4554 - accuracy: 0.8607 - val_loss: 0.3921 - val_accuracy: 0.8950\n",
      "Epoch 59/100\n",
      "64/64 [==============================] - 3s 44ms/step - loss: 0.4274 - accuracy: 0.8732 - val_loss: 0.3880 - val_accuracy: 0.8950\n",
      "Epoch 60/100\n",
      "64/64 [==============================] - 3s 44ms/step - loss: 0.4720 - accuracy: 0.8534 - val_loss: 0.3544 - val_accuracy: 0.9269\n",
      "Epoch 61/100\n",
      "64/64 [==============================] - 3s 43ms/step - loss: 0.4484 - accuracy: 0.8724 - val_loss: 0.3639 - val_accuracy: 0.9087\n",
      "Epoch 62/100\n",
      "64/64 [==============================] - 3s 44ms/step - loss: 0.4149 - accuracy: 0.8835 - val_loss: 0.3604 - val_accuracy: 0.9132\n",
      "Epoch 63/100\n",
      "64/64 [==============================] - 3s 44ms/step - loss: 0.4455 - accuracy: 0.8743 - val_loss: 0.3701 - val_accuracy: 0.8995\n",
      "Epoch 64/100\n",
      "64/64 [==============================] - 3s 44ms/step - loss: 0.4507 - accuracy: 0.8757 - val_loss: 0.3833 - val_accuracy: 0.9269\n",
      "Epoch 65/100\n",
      "64/64 [==============================] - 3s 44ms/step - loss: 0.4764 - accuracy: 0.8540 - val_loss: 0.3764 - val_accuracy: 0.9041\n",
      "Epoch 66/100\n",
      "64/64 [==============================] - 3s 44ms/step - loss: 0.4626 - accuracy: 0.8590 - val_loss: 0.3531 - val_accuracy: 0.9087\n",
      "Epoch 67/100\n",
      "64/64 [==============================] - 3s 44ms/step - loss: 0.4037 - accuracy: 0.8950 - val_loss: 0.3593 - val_accuracy: 0.9178\n",
      "Epoch 68/100\n",
      "64/64 [==============================] - 3s 46ms/step - loss: 0.4383 - accuracy: 0.8679 - val_loss: 0.3495 - val_accuracy: 0.9132\n",
      "Epoch 69/100\n",
      "64/64 [==============================] - 3s 44ms/step - loss: 0.4439 - accuracy: 0.8739 - val_loss: 0.3693 - val_accuracy: 0.9087\n",
      "Epoch 70/100\n",
      "64/64 [==============================] - 3s 45ms/step - loss: 0.4568 - accuracy: 0.8711 - val_loss: 0.3555 - val_accuracy: 0.9087\n",
      "Epoch 71/100\n",
      "64/64 [==============================] - 3s 45ms/step - loss: 0.4628 - accuracy: 0.8660 - val_loss: 0.3538 - val_accuracy: 0.9087\n",
      "Epoch 72/100\n",
      "64/64 [==============================] - 3s 45ms/step - loss: 0.4771 - accuracy: 0.8710 - val_loss: 0.4567 - val_accuracy: 0.8676\n",
      "Epoch 73/100\n",
      "64/64 [==============================] - 3s 49ms/step - loss: 0.4800 - accuracy: 0.8482 - val_loss: 0.3697 - val_accuracy: 0.9087\n",
      "Epoch 74/100\n",
      "64/64 [==============================] - 3s 46ms/step - loss: 0.4180 - accuracy: 0.8833 - val_loss: 0.3573 - val_accuracy: 0.9315\n",
      "Epoch 75/100\n",
      "64/64 [==============================] - 3s 47ms/step - loss: 0.4331 - accuracy: 0.8762 - val_loss: 0.3669 - val_accuracy: 0.9041\n",
      "Epoch 76/100\n",
      "64/64 [==============================] - 3s 48ms/step - loss: 0.4828 - accuracy: 0.8571 - val_loss: 0.4060 - val_accuracy: 0.8904\n",
      "Epoch 77/100\n",
      "64/64 [==============================] - 3s 45ms/step - loss: 0.4254 - accuracy: 0.8857 - val_loss: 0.3744 - val_accuracy: 0.9087\n",
      "Epoch 78/100\n",
      "64/64 [==============================] - 3s 46ms/step - loss: 0.4699 - accuracy: 0.8567 - val_loss: 0.3644 - val_accuracy: 0.9041\n",
      "Epoch 79/100\n",
      "64/64 [==============================] - 3s 45ms/step - loss: 0.4488 - accuracy: 0.8777 - val_loss: 0.3498 - val_accuracy: 0.9269\n",
      "Epoch 80/100\n",
      "64/64 [==============================] - 3s 45ms/step - loss: 0.4551 - accuracy: 0.8678 - val_loss: 0.3525 - val_accuracy: 0.9178\n",
      "Epoch 81/100\n",
      "64/64 [==============================] - 3s 45ms/step - loss: 0.4315 - accuracy: 0.8742 - val_loss: 0.3573 - val_accuracy: 0.9178\n",
      "Epoch 82/100\n",
      "64/64 [==============================] - 3s 45ms/step - loss: 0.4607 - accuracy: 0.8637 - val_loss: 0.4248 - val_accuracy: 0.8904\n",
      "Epoch 83/100\n",
      "64/64 [==============================] - 3s 45ms/step - loss: 0.4563 - accuracy: 0.8590 - val_loss: 0.3928 - val_accuracy: 0.8950\n",
      "Epoch 84/100\n",
      "64/64 [==============================] - 3s 46ms/step - loss: 0.4261 - accuracy: 0.8756 - val_loss: 0.3523 - val_accuracy: 0.9132\n",
      "Epoch 85/100\n",
      "64/64 [==============================] - 3s 45ms/step - loss: 0.4501 - accuracy: 0.8580 - val_loss: 0.3602 - val_accuracy: 0.9178\n",
      "Epoch 86/100\n",
      "64/64 [==============================] - 3s 45ms/step - loss: 0.4511 - accuracy: 0.8729 - val_loss: 0.3560 - val_accuracy: 0.9178\n",
      "Epoch 87/100\n",
      "64/64 [==============================] - 3s 46ms/step - loss: 0.4477 - accuracy: 0.8689 - val_loss: 0.3551 - val_accuracy: 0.9224\n",
      "Epoch 88/100\n",
      "64/64 [==============================] - 3s 45ms/step - loss: 0.4446 - accuracy: 0.8780 - val_loss: 0.3610 - val_accuracy: 0.9269\n",
      "Epoch 89/100\n",
      "64/64 [==============================] - 3s 45ms/step - loss: 0.4650 - accuracy: 0.8680 - val_loss: 0.3872 - val_accuracy: 0.9041\n",
      "Epoch 90/100\n",
      "64/64 [==============================] - 3s 45ms/step - loss: 0.4448 - accuracy: 0.8689 - val_loss: 0.3516 - val_accuracy: 0.9178\n",
      "Epoch 91/100\n",
      "64/64 [==============================] - 3s 45ms/step - loss: 0.4445 - accuracy: 0.8585 - val_loss: 0.3747 - val_accuracy: 0.9087\n",
      "Epoch 92/100\n",
      "64/64 [==============================] - 3s 46ms/step - loss: 0.4669 - accuracy: 0.8495 - val_loss: 0.4202 - val_accuracy: 0.8904\n",
      "Epoch 93/100\n",
      "64/64 [==============================] - 3s 45ms/step - loss: 0.4558 - accuracy: 0.8794 - val_loss: 0.4297 - val_accuracy: 0.8904\n",
      "Epoch 94/100\n",
      "64/64 [==============================] - 3s 45ms/step - loss: 0.4482 - accuracy: 0.8705 - val_loss: 0.4588 - val_accuracy: 0.8630\n",
      "Epoch 95/100\n",
      "64/64 [==============================] - 3s 45ms/step - loss: 0.4711 - accuracy: 0.8712 - val_loss: 0.3578 - val_accuracy: 0.9087\n",
      "Epoch 96/100\n",
      "64/64 [==============================] - 3s 45ms/step - loss: 0.4741 - accuracy: 0.8662 - val_loss: 0.3924 - val_accuracy: 0.8950\n",
      "Epoch 97/100\n",
      "64/64 [==============================] - 3s 45ms/step - loss: 0.4500 - accuracy: 0.8802 - val_loss: 0.3965 - val_accuracy: 0.8950\n",
      "Epoch 98/100\n",
      "64/64 [==============================] - 3s 45ms/step - loss: 0.4457 - accuracy: 0.8668 - val_loss: 0.3544 - val_accuracy: 0.9087\n",
      "Epoch 99/100\n",
      "64/64 [==============================] - 3s 45ms/step - loss: 0.4447 - accuracy: 0.8710 - val_loss: 0.3591 - val_accuracy: 0.9087\n",
      "Epoch 100/100\n",
      "64/64 [==============================] - 3s 45ms/step - loss: 0.4421 - accuracy: 0.8682 - val_loss: 0.3671 - val_accuracy: 0.9087\n"
     ]
    }
   ],
   "source": [
    "model_3.compile(optimizer='adam',\n",
    "              loss='binary_crossentropy',\n",
    "              metrics=['accuracy'])\n",
    "              \n",
    "hist_3 = model_3.fit(X_train, Y_train,\n",
    "          batch_size=16, epochs=100,\n",
    "          validation_data=(X_val, Y_val))"
   ]
  },
  {
   "cell_type": "code",
   "execution_count": 98,
   "metadata": {},
   "outputs": [
    {
     "name": "stdout",
     "output_type": "stream",
     "text": [
      "7/7 [==============================] - 0s 33ms/step - loss: 0.3942 - accuracy: 0.9041\n"
     ]
    },
    {
     "data": {
      "text/plain": [
       "0.9041095972061157"
      ]
     },
     "execution_count": 98,
     "metadata": {},
     "output_type": "execute_result"
    }
   ],
   "source": [
    "model_3.evaluate(X_test, Y_test)[1]"
   ]
  },
  {
   "cell_type": "code",
   "execution_count": 99,
   "metadata": {},
   "outputs": [
    {
     "data": {
      "image/png": "[encoded data removed]",
      "text/plain": [
       "<Figure size 432x288 with 1 Axes>"
      ]
     },
     "metadata": {
      "needs_background": "light"
     },
     "output_type": "display_data"
    }
   ],
   "source": [
    "plt.plot(hist_3.history['loss'])\n",
    "plt.plot(hist_3.history['val_loss'])\n",
    "plt.title('Model loss')\n",
    "plt.ylabel('Loss')\n",
    "plt.xlabel('Epoch')\n",
    "plt.legend(['Train', 'Val'], loc='upper right')\n",
    "plt.ylim(top=1.2, bottom=0)\n",
    "plt.show()"
   ]
  },
  {
   "cell_type": "code",
   "execution_count": 100,
   "metadata": {},
   "outputs": [
    {
     "data": {
      "image/png": "[encoded data removed]",
      "text/plain": [
       "<Figure size 432x288 with 1 Axes>"
      ]
     },
     "metadata": {
      "needs_background": "light"
     },
     "output_type": "display_data"
    }
   ],
   "source": [
    "plt.plot(hist_3.history['accuracy'])\n",
    "plt.plot(hist_3.history['val_accuracy'])\n",
    "plt.title('Model accuracy')\n",
    "plt.ylabel('Accuracy')\n",
    "plt.xlabel('Epoch')\n",
    "plt.legend(['Train', 'Val'], loc='lower right')\n",
    "plt.show()"
   ]
  },
  {
   "cell_type": "code",
   "execution_count": null,
   "metadata": {},
   "outputs": [],
   "source": []
  }
 ],
 "metadata": {
  "kernelspec": {
   "display_name": "Python 3",
   "language": "python",
   "name": "python3"
  },
  "language_info": {
   "codemirror_mode": {
    "name": "ipython",
    "version": 3
   },
   "file_extension": ".py",
   "mimetype": "text/x-python",
   "name": "python",
   "nbconvert_exporter": "python",
   "pygments_lexer": "ipython3",
   "version": "3.8.7"
  }
 },
 "nbformat": 4,
 "nbformat_minor": 4
}
